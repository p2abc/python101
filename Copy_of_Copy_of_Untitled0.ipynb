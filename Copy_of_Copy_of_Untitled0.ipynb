{
  "nbformat": 4,
  "nbformat_minor": 0,
  "metadata": {
    "colab": {
      "provenance": [],
      "authorship_tag": "ABX9TyNN2FYrKw2tNDtujN2FJQt1",
      "include_colab_link": true
    },
    "kernelspec": {
      "name": "python3",
      "display_name": "Python 3"
    },
    "language_info": {
      "name": "python"
    }
  },
  "cells": [
    {
      "cell_type": "markdown",
      "metadata": {
        "id": "view-in-github",
        "colab_type": "text"
      },
      "source": [
        "<a href=\"https://colab.research.google.com/github/p2abc/python101/blob/main/Copy_of_Copy_of_Untitled0.ipynb\" target=\"_parent\"><img src=\"https://colab.research.google.com/assets/colab-badge.svg\" alt=\"Open In Colab\"/></a>"
      ]
    },
    {
      "cell_type": "code",
      "execution_count": null,
      "metadata": {
        "id": "8O930hng1Y_d"
      },
      "outputs": [],
      "source": [
        "budget = int(input(\"What is your budget?\"))\n",
        "\n",
        "count = int(input(\"How many expenses do you have?\"))\n",
        "tot_expense = int(0)\n",
        "exp = int(0)\n",
        "i = int(0)\n",
        "\n",
        "while(i < count):\n",
        "    exp =  int(input(\"what is your total expense:\"))\n",
        "    tot_expense = exp + tot_expense\n",
        "    i = i + 1\n",
        "\n",
        "if (tot_expense > budget):\n",
        "     print(\"you are over the budget:\")\n",
        "     \n",
        "if (tot_expense < budget):\n",
        "\n",
        "    print(\"you are under the budget:\")\n",
        "    \n",
        "if (tot_expense == budget):\n",
        "    print(\"you are on the budget:\")"
      ]
    }
  ]
}