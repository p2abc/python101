{
  "nbformat": 4,
  "nbformat_minor": 0,
  "metadata": {
    "colab": {
      "provenance": [],
      "authorship_tag": "ABX9TyMRCdr65ihbI+04yv//UXDt",
      "include_colab_link": true
    },
    "kernelspec": {
      "name": "python3",
      "display_name": "Python 3"
    },
    "language_info": {
      "name": "python"
    }
  },
  "cells": [
    {
      "cell_type": "markdown",
      "metadata": {
        "id": "view-in-github",
        "colab_type": "text"
      },
      "source": [
        "<a href=\"https://colab.research.google.com/github/p2abc/python101/blob/main/Copy_of_Copy_of_Untitled0.ipynb\" target=\"_parent\"><img src=\"https://colab.research.google.com/assets/colab-badge.svg\" alt=\"Open In Colab\"/></a>"
      ]
    },
    {
      "cell_type": "code",
      "execution_count": null,
      "metadata": {
        "id": "8O930hng1Y_d"
      },
      "outputs": [],
      "source": [
        "budget = int(input(\"What is your budget?\"))\n",
        "\n",
        "count = int(input(\"How many expenses do you have?\"))\n",
        "tot_expense = int(0)\n",
        "exp = int(0)\n",
        "i = int(0)\n",
        "\n",
        "while(i < count):\n",
        "    exp =  int(input(\"what is your total expense:\"))\n",
        "    tot_expense = exp + tot_expense\n",
        "    i = i + 1\n",
        "\n",
        "if (tot_expense > budget):\n",
        "     print(\"you are over the budget:\")\n",
        "     \n",
        "if (tot_expense < budget):\n",
        "\n",
        "    print(\"you are under the budget:\")\n",
        "    \n",
        "if (tot_expense == budget):\n",
        "    print(\"you are on the budget:\")"
      ]
    },
    {
      "cell_type": "code",
      "source": [
        "speed = int(input(\"how fast is the vehicle traveling? : \"))\n",
        "\n",
        "time = int(input(\"how long has the vehicle been traveling? : \"))\n",
        "\n",
        "\n",
        "distance = int(speed * time)\n",
        "\n",
        "print(distance)\n",
        "\n",
        "\n",
        "\n",
        "print(\"distance at \" + str(time) + \" hours \" + str(speed * time) + \" miles\")\n",
        "\n",
        "\n",
        "while (time > 0) :\n",
        "\n",
        "    time = time - 1\n",
        "    \n",
        "    \n",
        "    print(\"distance at \" + str(time) + \" hours \" + str(speed * time) + \" miles\")"
      ],
      "metadata": {
        "colab": {
          "base_uri": "https://localhost:8080/"
        },
        "id": "4de1U8FFJwDs",
        "outputId": "a48f84a3-db9b-4ae3-c388-9b6795c335ac"
      },
      "execution_count": 2,
      "outputs": [
        {
          "output_type": "stream",
          "name": "stdout",
          "text": [
            "how fast is the vehicle traveling? : 4\n",
            "how long has the vehicle been traveling? : 5\n",
            "20\n",
            "distance at 5 hours 20 miles\n",
            "distance at 4 hours 16 miles\n",
            "distance at 3 hours 12 miles\n",
            "distance at 2 hours 8 miles\n",
            "distance at 1 hours 4 miles\n",
            "distance at 0 hours 0 miles\n"
          ]
        }
      ]
    }
  ]
}